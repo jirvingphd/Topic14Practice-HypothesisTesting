{
 "cells": [
  {
   "cell_type": "markdown",
   "metadata": {},
   "source": [
    "# Topic 14 Practice - Hypothesis Tests"
   ]
  },
  {
   "cell_type": "markdown",
   "metadata": {},
   "source": [
    "## Big Example\n",
    "\n",
    "The TexMex restaurant recently introduced queso to its menu.\n",
    "\n",
    "We have random samples of 1000 \"no queso\" order check totals and 1000 \"queso\" order check totals for orders made by different customers.\n",
    "\n",
    "In the cell below, we load the sample data for you into the arrays `no_queso` and `queso` for the \"no queso\" and \"queso\" order check totals, respectively. Then, we create histograms of the distribution of the check amounts for the \"no queso\" and \"queso\" samples. "
   ]
  },
  {
   "cell_type": "code",
   "execution_count": null,
   "metadata": {},
   "outputs": [],
   "source": [
    "# Import the necessary libraries\n",
    "import numpy as np\n",
    "import pandas as pd \n",
    "\n",
    "from scipy import stats\n",
    "\n",
    "import matplotlib.pyplot as plt\n",
    "import seaborn as sns\n",
    "%matplotlib inline\n",
    "\n",
    "import pickle"
   ]
  },
  {
   "cell_type": "code",
   "execution_count": null,
   "metadata": {},
   "outputs": [],
   "source": [
    "# Load the sample data \n",
    "no_queso = pickle.load(open('data/no_queso.pkl', 'rb'))\n",
    "queso = pickle.load(open('data/queso.pkl', 'rb'))\n",
    "\n",
    "# Plot histograms\n",
    "fig, (ax1, ax2) = plt.subplots(1, 2, figsize=(12, 4))\n",
    "\n",
    "ax1.set_title('Sample of Non-Queso Check Totals')\n",
    "ax1.set_xlabel('Amount')\n",
    "ax1.set_ylabel('Frequency')\n",
    "ax1.hist(no_queso, bins=20)\n",
    "\n",
    "ax2.set_title('Sample of Queso Check Totals')\n",
    "ax2.set_xlabel('Amount')\n",
    "ax2.set_ylabel('Frequency')\n",
    "ax2.hist(queso, bins=20)\n",
    "plt.show()"
   ]
  },
  {
   "cell_type": "markdown",
   "metadata": {},
   "source": [
    "The restaurant owners want to know if customers who order queso spend significantly **more or less** than customers who do not order queso."
   ]
  },
  {
   "cell_type": "markdown",
   "metadata": {},
   "source": [
    "### 1) Set up the null $H_{0}$ and alternative hypotheses $H_{A}$ for this test."
   ]
  },
  {
   "cell_type": "markdown",
   "metadata": {},
   "source": [
    "- $H_0$ : \n",
    "- $H_a$ : "
   ]
  },
  {
   "cell_type": "markdown",
   "metadata": {},
   "source": [
    "### 2) What would it mean to make a Type I or a Type II error in this specific context?"
   ]
  },
  {
   "cell_type": "markdown",
   "metadata": {},
   "source": [
    "- Type I Error:\n",
    "- Type II Error:"
   ]
  },
  {
   "cell_type": "markdown",
   "metadata": {},
   "source": [
    "### 3) Run a statistical test on the two samples. Can you reject the null hypothesis? \n",
    "\n",
    "Use a significance level of $\\alpha = 0.05$. You can assume the two samples have equal variance.\n",
    "\n",
    "You can use `scipy.stats` to find the answer if you like.  It has already been imported as `stats` and the statistical testing documentation can be found [here](https://docs.scipy.org/doc/scipy/reference/stats.html#statistical-tests)."
   ]
  },
  {
   "cell_type": "markdown",
   "metadata": {},
   "source": [
    "First write some details about what kind of test you'll run here:\n",
    "\n",
    "- \n"
   ]
  },
  {
   "cell_type": "code",
   "execution_count": null,
   "metadata": {},
   "outputs": [],
   "source": [
    "# Code here for the test\n"
   ]
  },
  {
   "cell_type": "markdown",
   "metadata": {},
   "source": [
    "Can you reject the null hypothesis?\n",
    "\n",
    "- \n"
   ]
  },
  {
   "cell_type": "markdown",
   "metadata": {},
   "source": [
    "## More Examples\n",
    "\n",
    "Follow the same format as above - write out what you need to explore, define your null and alternate hypotheses, describe your tests, then use scipy stats to determine your answer!"
   ]
  },
  {
   "cell_type": "markdown",
   "metadata": {},
   "source": [
    "### Example 2 \n",
    "\n",
    "The average number of scoops of ice cream sold by employees at Scoops Ahoy is 15 per hour with a standard deviation of 3.\n",
    "\n",
    "For the month of June, Steve worked for 6 hours, 4 days a week, and averaged 18 scoops sold per hour. Does he sell significantly more scoops per hour than most other employees?"
   ]
  },
  {
   "cell_type": "markdown",
   "metadata": {},
   "source": [
    "Details:\n",
    "\n",
    "- \n"
   ]
  },
  {
   "cell_type": "code",
   "execution_count": null,
   "metadata": {},
   "outputs": [],
   "source": []
  },
  {
   "cell_type": "markdown",
   "metadata": {},
   "source": [
    "### Example 3 \n",
    "\n",
    "A coffee shop relocates from Manhattan to Brooklyn and wants to make sure that all lattes are consistent before and after their move. They buy a new machine and hire a new barista. In Manhattan, lattes are made with 4 oz of espresso. A random sample of 25 lattes made in their new store in Brooklyn shows a mean of 4.6 oz and standard deviation of 0.22 oz. Are their lattes different now that they've relocated to Brooklyn? \n",
    "\n",
    "Use a significance level of $\\alpha = 0.01$."
   ]
  },
  {
   "cell_type": "markdown",
   "metadata": {},
   "source": [
    "Details:\n",
    "\n",
    "- \n"
   ]
  },
  {
   "cell_type": "code",
   "execution_count": null,
   "metadata": {},
   "outputs": [],
   "source": []
  },
  {
   "cell_type": "markdown",
   "metadata": {},
   "source": [
    "### Example 4 \n",
    "\n",
    "The average annual earnings for an eSports athlete is 45,000 dollars with a standard deviation of 25,000 dollars. A recent study of 15 eSports athletes found their average annual earnings to be 55,000 dollars. A rising eSports star is trying to decide whether or not to drop out of college and pursue an eSports career. His decision will be swayed over whether or not he could expect to make more than 45,000 dollars a year in eSports. Design a hypothesis test to inform his decision with a 95% confidence level."
   ]
  },
  {
   "cell_type": "markdown",
   "metadata": {},
   "source": [
    "Details:\n",
    "\n",
    "- \n"
   ]
  },
  {
   "cell_type": "code",
   "execution_count": null,
   "metadata": {},
   "outputs": [],
   "source": []
  },
  {
   "cell_type": "markdown",
   "metadata": {},
   "source": [
    "### Example 5\n",
    "\n",
    "You measure the delivery times of ten different restaurants in two different neighborhoods. You want to know if restaurants in the different neighborhoods have the same delivery times. It’s okay to assume both samples have equal variances. Set your significance threshold to 0.05."
   ]
  },
  {
   "cell_type": "code",
   "execution_count": null,
   "metadata": {
    "ExecuteTime": {
     "end_time": "2020-08-04T22:54:05.299705Z",
     "start_time": "2020-08-04T22:54:05.297529Z"
    }
   },
   "outputs": [],
   "source": [
    "delivery_times_A = [28.4, 23.3, 30.4, 28.1, 29.4, 30.6, 27.8, 30.9, 27.0, 32.8]\n",
    "\n",
    "delivery_times_B = [26.4, 26.3, 27.4, 30.4, 25.1, 28.4, 23.3, 24.7, 31.8, 24.3]"
   ]
  },
  {
   "cell_type": "markdown",
   "metadata": {},
   "source": [
    "Details:\n",
    "\n",
    "- \n"
   ]
  },
  {
   "cell_type": "code",
   "execution_count": null,
   "metadata": {},
   "outputs": [],
   "source": []
  },
  {
   "cell_type": "markdown",
   "metadata": {},
   "source": [
    "### Example 6\n",
    "\n",
    "League of Legends and DOTA 2 are two similar multiplayer online battle arena games. There is a big debate over which game is better and which one requires more skill. To solve this question, two studies were ran using an IQ test. The first study looked at 55 League of Legends players and found their average IQ to be 116 with a standard deviation of 10. The second study looked at 45 DOTA 2 players and found their average IQ to be 112 with a standard deviation of 12. Assuming a confidence level of 90%, can these studies conclude that one playerbase is more intelligent than the other?"
   ]
  },
  {
   "cell_type": "markdown",
   "metadata": {},
   "source": [
    "Details:\n",
    "\n",
    "- \n"
   ]
  },
  {
   "cell_type": "code",
   "execution_count": null,
   "metadata": {},
   "outputs": [],
   "source": []
  }
 ],
 "metadata": {
  "kernelspec": {
   "display_name": "Python 3",
   "language": "python",
   "name": "python3"
  },
  "language_info": {
   "codemirror_mode": {
    "name": "ipython",
    "version": 3
   },
   "file_extension": ".py",
   "mimetype": "text/x-python",
   "name": "python",
   "nbconvert_exporter": "python",
   "pygments_lexer": "ipython3",
   "version": "3.6.9"
  },
  "toc": {
   "base_numbering": 1,
   "nav_menu": {},
   "number_sections": true,
   "sideBar": true,
   "skip_h1_title": false,
   "title_cell": "Table of Contents",
   "title_sidebar": "Contents",
   "toc_cell": false,
   "toc_position": {},
   "toc_section_display": true,
   "toc_window_display": false
  }
 },
 "nbformat": 4,
 "nbformat_minor": 4
}